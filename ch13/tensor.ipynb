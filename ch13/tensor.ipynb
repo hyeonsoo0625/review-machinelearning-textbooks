{
 "cells": [
  {
   "cell_type": "markdown",
   "metadata": {},
   "source": [
    "## 텐서플로에서 텐서 만들기"
   ]
  },
  {
   "cell_type": "code",
   "execution_count": 1,
   "metadata": {},
   "outputs": [
    {
     "name": "stdout",
     "output_type": "stream",
     "text": [
      "tf.Tensor([1 2 3], shape=(3,), dtype=int32)\n",
      "tf.Tensor([4 5 6], shape=(3,), dtype=int32)\n"
     ]
    }
   ],
   "source": [
    "import tensorflow as tf\n",
    "import numpy as np\n",
    "np.set_printoptions(precision=3)\n",
    "\n",
    "a = np.array([1, 2, 3], dtype=np.int32) # shape (3,)\n",
    "b = [4, 5, 6]\n",
    "\n",
    "t_a = tf.convert_to_tensor(a)\n",
    "t_b = tf.convert_to_tensor(b)\n",
    "\n",
    "print(t_a)\n",
    "print(t_b)"
   ]
  },
  {
   "cell_type": "code",
   "execution_count": 2,
   "metadata": {},
   "outputs": [
    {
     "data": {
      "text/plain": [
       "TensorShape([2, 3])"
      ]
     },
     "execution_count": 2,
     "metadata": {},
     "output_type": "execute_result"
    }
   ],
   "source": [
    "t_ones = tf.ones((2, 3))\n",
    "t_ones.shape"
   ]
  },
  {
   "cell_type": "code",
   "execution_count": 3,
   "metadata": {},
   "outputs": [
    {
     "data": {
      "text/plain": [
       "array([[1., 1., 1.],\n",
       "       [1., 1., 1.]], dtype=float32)"
      ]
     },
     "execution_count": 3,
     "metadata": {},
     "output_type": "execute_result"
    }
   ],
   "source": [
    "# 텐서가 참조하는 값 얻기\n",
    "t_ones.numpy()"
   ]
  },
  {
   "cell_type": "code",
   "execution_count": 4,
   "metadata": {},
   "outputs": [
    {
     "name": "stdout",
     "output_type": "stream",
     "text": [
      "tf.Tensor([1.2   5.    3.142], shape=(3,), dtype=float32)\n"
     ]
    }
   ],
   "source": [
    "# 상수 값을 가진 텐서 만들기\n",
    "const_tensor = tf.constant([1.2, 5, np.pi], dtype=tf.float32)\n",
    "print(const_tensor)"
   ]
  },
  {
   "cell_type": "markdown",
   "metadata": {},
   "source": [
    "## 텐서의 데이터 타입과 크기 조작\n",
    "모델이나 연산에 맞는 입력을 준비하려면 텐서를 조작하는 법을 알아야 한다.\n",
    "- cast\n",
    "- reshape\n",
    "- transpose\n",
    "- squeeze"
   ]
  },
  {
   "cell_type": "code",
   "execution_count": 5,
   "metadata": {},
   "outputs": [
    {
     "name": "stdout",
     "output_type": "stream",
     "text": [
      "<dtype: 'int64'>\n"
     ]
    }
   ],
   "source": [
    "# cast: 텐서의 데이터 타입을 원하는 타입으로 바꿈\n",
    "t_a_new = tf.cast(t_a, tf.int64)\n",
    "print(t_a_new.dtype)"
   ]
  },
  {
   "cell_type": "code",
   "execution_count": 6,
   "metadata": {},
   "outputs": [
    {
     "name": "stdout",
     "output_type": "stream",
     "text": [
      "(3, 5) --> (5, 3)\n",
      "(5, 6)\n",
      "(1, 2, 1, 4, 1) --> (1, 2, 4)\n"
     ]
    }
   ],
   "source": [
    "# 텐서의 크기를 바꾸고 차원을 추가하거나 불필요한 차원을 제거\n",
    "# 텐서 전치하기\n",
    "t = tf.random.uniform(shape=(3, 5))\n",
    "t_tr = tf.transpose(t)\n",
    "print(t.shape, '-->', t_tr.shape)\n",
    "\n",
    "# 텐서 크기 바꾸기\n",
    "t = tf.zeros((30,))\n",
    "t_reshape = tf.reshape(t, shape=(5, 6))\n",
    "print(t_reshape.shape)\n",
    "\n",
    "# 불필요한 차원 삭제하기\n",
    "t = tf.zeros((1, 2, 1, 4, 1))\n",
    "t_sqz = tf.squeeze(t, axis=(2, 4))\n",
    "print(t.shape, '-->', t_sqz.shape)"
   ]
  },
  {
   "cell_type": "markdown",
   "metadata": {},
   "source": [
    "## 텐서에 수학 연산 적용\n",
    "- 원소별 곱셈\n",
    "- 행렬 곱셈\n",
    "- 텐서의 노름 연산"
   ]
  },
  {
   "cell_type": "code",
   "execution_count": 7,
   "metadata": {},
   "outputs": [
    {
     "name": "stdout",
     "output_type": "stream",
     "text": [
      "t1: tf.Tensor(\n",
      "[[-0.67   0.803]\n",
      " [ 0.262 -0.131]\n",
      " [-0.416  0.285]\n",
      " [ 0.952 -0.13 ]\n",
      " [ 0.32   0.21 ]], shape=(5, 2), dtype=float32)\n",
      "t2: tf.Tensor(\n",
      "[[ 0.403 -1.088]\n",
      " [-0.063  1.337]\n",
      " [ 0.712 -0.489]\n",
      " [-0.764 -1.037]\n",
      " [-1.252  0.021]], shape=(5, 2), dtype=float32)\n",
      "[[-0.27  -0.874]\n",
      " [-0.017 -0.175]\n",
      " [-0.296 -0.139]\n",
      " [-0.727  0.135]\n",
      " [-0.401  0.004]]\n"
     ]
    }
   ],
   "source": [
    "tf.random.set_seed(1)\n",
    "# [-1, 1) 사이의 균등 분포\n",
    "t1 = tf.random.uniform(shape=(5, 2), minval=-1.0, maxval=1.0)\n",
    "# 표준 정규 분포\n",
    "t2 = tf.random.normal(shape=(5, 2), mean=0.0, stddev=1.0)\n",
    "print('t1:', t1)\n",
    "print('t2:', t2)\n",
    "# 원소별 곱셈\n",
    "t3 = tf.multiply(t1, t2).numpy()\n",
    "print(t3)"
   ]
  },
  {
   "cell_type": "code",
   "execution_count": 8,
   "metadata": {},
   "outputs": [
    {
     "name": "stdout",
     "output_type": "stream",
     "text": [
      "tf.Tensor([0.09  0.207], shape=(2,), dtype=float32)\n"
     ]
    }
   ],
   "source": [
    "# 각 열의 평균 계산\n",
    "t4 = tf.math.reduce_mean(t1, axis=0)\n",
    "print(t4)"
   ]
  },
  {
   "cell_type": "code",
   "execution_count": 9,
   "metadata": {},
   "outputs": [
    {
     "name": "stdout",
     "output_type": "stream",
     "text": [
      "t5: \n",
      " [[-1.144  1.115 -0.87  -0.321  0.856]\n",
      " [ 0.248 -0.191  0.25  -0.064 -0.331]\n",
      " [-0.478  0.407 -0.436  0.022  0.527]\n",
      " [ 0.525 -0.234  0.741 -0.593 -1.194]\n",
      " [-0.099  0.26   0.125 -0.462 -0.396]]\n",
      "t6: \n",
      " [[-1.711  0.302]\n",
      " [ 0.371 -1.049]]\n"
     ]
    }
   ],
   "source": [
    "# 행렬 곱셈\n",
    "t5 = tf.linalg.matmul(t1, t2, transpose_b=True) # t2 전치\n",
    "print('t5: \\n', t5.numpy())\n",
    "\n",
    "t6 = tf.linalg.matmul(t1, t2, transpose_a=True) # t1 전치\n",
    "print('t6: \\n', t6.numpy())"
   ]
  },
  {
   "cell_type": "code",
   "execution_count": 10,
   "metadata": {},
   "outputs": [
    {
     "name": "stdout",
     "output_type": "stream",
     "text": [
      "[1.046 0.293 0.504 0.96  0.383]\n"
     ]
    }
   ],
   "source": [
    "# 텐서의 노름 계산\n",
    "norm_t1 = tf.norm(t1, ord=2, axis=1).numpy() # L2 노름\n",
    "print(norm_t1)"
   ]
  },
  {
   "cell_type": "markdown",
   "metadata": {},
   "source": [
    "## split(), stack(), concat() 함수\n",
    "하나의 텐서를 여러개의 텐서로 나누거나 여러개의 텐서를 쌓거나, 연결하여 하나의 텐서로 만드는 연산"
   ]
  },
  {
   "cell_type": "code",
   "execution_count": 13,
   "metadata": {},
   "outputs": [
    {
     "name": "stdout",
     "output_type": "stream",
     "text": [
      "[0.165 0.901 0.631 0.435 0.292 0.643]\n"
     ]
    },
    {
     "data": {
      "text/plain": [
       "[array([0.165, 0.901], dtype=float32),\n",
       " array([0.631, 0.435], dtype=float32),\n",
       " array([0.292, 0.643], dtype=float32)]"
      ]
     },
     "execution_count": 13,
     "metadata": {},
     "output_type": "execute_result"
    }
   ],
   "source": [
    "# 분할 개수 지정하기\n",
    "tf.random.set_seed(1)\n",
    "t = tf.random.uniform((6,))\n",
    "print(t.numpy())\n",
    "t_splits = tf.split(t, num_or_size_splits=3)\n",
    "[item.numpy() for item in t_splits]"
   ]
  },
  {
   "cell_type": "code",
   "execution_count": 14,
   "metadata": {},
   "outputs": [
    {
     "name": "stdout",
     "output_type": "stream",
     "text": [
      "[0.165 0.901 0.631 0.435 0.292]\n"
     ]
    },
    {
     "data": {
      "text/plain": [
       "[array([0.165, 0.901, 0.631], dtype=float32),\n",
       " array([0.435, 0.292], dtype=float32)]"
      ]
     },
     "execution_count": 14,
     "metadata": {},
     "output_type": "execute_result"
    }
   ],
   "source": [
    "# 다른 분할 크기 전달하기\n",
    "tf.random.set_seed(1)\n",
    "t = tf.random.uniform((5,))\n",
    "print(t.numpy())\n",
    "t_splits = tf.split(t, num_or_size_splits=[3, 2])\n",
    "[item.numpy() for item in t_splits]"
   ]
  },
  {
   "cell_type": "code",
   "execution_count": 16,
   "metadata": {},
   "outputs": [
    {
     "name": "stdout",
     "output_type": "stream",
     "text": [
      "[1. 1. 1. 0. 0.]\n"
     ]
    }
   ],
   "source": [
    "A = tf.ones((3,))\n",
    "B = tf.zeros((2,))\n",
    "C = tf.concat([A, B], axis=0)\n",
    "print(C.numpy())"
   ]
  },
  {
   "cell_type": "code",
   "execution_count": 17,
   "metadata": {},
   "outputs": [
    {
     "name": "stdout",
     "output_type": "stream",
     "text": [
      "[[1. 0.]\n",
      " [1. 0.]\n",
      " [1. 0.]]\n"
     ]
    }
   ],
   "source": [
    "A = tf.ones((3,))\n",
    "B = tf.zeros((3,))\n",
    "S = tf.stack([A, B], axis=1)\n",
    "print(S.numpy())"
   ]
  },
  {
   "cell_type": "markdown",
   "metadata": {},
   "source": [
    "# 텐서플로 데이터셋 API(tf.data)를 사용하여 입력 파이프라인 구축\n",
    "매번 전처리 함수를 수동으로 적용하는 것은 매우 번거롭다.\n",
    "<br>\n",
    "이를 위해 텐서플로에는 효율적이고 간편한 전처리 파이프라인을 만들어 주는 특별한 클래스를 제공한다.\n",
    "<br>\n",
    "텐서플로는 'tf.data.Dataset.from_tensor_slices()' 함수를 이용해 손쉽게 데이터셋을 만들 수 있다."
   ]
  },
  {
   "cell_type": "code",
   "execution_count": 18,
   "metadata": {},
   "outputs": [
    {
     "name": "stdout",
     "output_type": "stream",
     "text": [
      "<_TensorSliceDataset element_spec=TensorSpec(shape=(), dtype=tf.float32, name=None)>\n"
     ]
    }
   ],
   "source": [
    "a = [1.2, 3.4, 7.5, 4.1, 5.0, 1.0]\n",
    "ds = tf.data.Dataset.from_tensor_slices(a)\n",
    "print(ds)"
   ]
  },
  {
   "cell_type": "code",
   "execution_count": 19,
   "metadata": {},
   "outputs": [
    {
     "name": "stdout",
     "output_type": "stream",
     "text": [
      "tf.Tensor(1.2, shape=(), dtype=float32)\n",
      "tf.Tensor(3.4, shape=(), dtype=float32)\n",
      "tf.Tensor(7.5, shape=(), dtype=float32)\n",
      "tf.Tensor(4.1, shape=(), dtype=float32)\n",
      "tf.Tensor(5.0, shape=(), dtype=float32)\n",
      "tf.Tensor(1.0, shape=(), dtype=float32)\n"
     ]
    },
    {
     "name": "stderr",
     "output_type": "stream",
     "text": [
      "2024-08-12 02:06:09.064846: I tensorflow/core/framework/local_rendezvous.cc:404] Local rendezvous is aborting with status: OUT_OF_RANGE: End of sequence\n"
     ]
    }
   ],
   "source": [
    "# 데이터 순환\n",
    "for item in ds:\n",
    "    print(item)"
   ]
  },
  {
   "cell_type": "markdown",
   "metadata": {},
   "source": [
    "이때 배치 크기 3의 배치를 만들려면 'batch()' 메서드를 이용한다."
   ]
  },
  {
   "cell_type": "code",
   "execution_count": 20,
   "metadata": {},
   "outputs": [
    {
     "name": "stdout",
     "output_type": "stream",
     "text": [
      "batch 1: [1.2 3.4 7.5]\n",
      "batch 2: [4.1 5.  1. ]\n"
     ]
    },
    {
     "name": "stderr",
     "output_type": "stream",
     "text": [
      "2024-08-12 02:07:29.501386: I tensorflow/core/framework/local_rendezvous.cc:404] Local rendezvous is aborting with status: OUT_OF_RANGE: End of sequence\n"
     ]
    }
   ],
   "source": [
    "ds_batch = ds.batch(3)\n",
    "for i, elem in enumerate(ds_batch, 1):\n",
    "    print('batch {}:'.format(i), elem.numpy())"
   ]
  },
  {
   "cell_type": "markdown",
   "metadata": {},
   "source": [
    "## 두 개의 텐서를 하나의 데이터셋으로 연결\n",
    "종종 데이터는 2개 또는 그 이상의 텐서로 구성된다. 예를 들어 feature와 label 텐서 2개가 있다. 이 텐서를 연결하여 하나의 데이터셋으로 만들면 두 텐서의 원소를 튜플로 추출할 수 있다.\n"
   ]
  },
  {
   "cell_type": "code",
   "execution_count": 21,
   "metadata": {},
   "outputs": [
    {
     "name": "stdout",
     "output_type": "stream",
     "text": [
      "   x: [0.165 0.901 0.631]    y: 0\n",
      "   x: [0.435 0.292 0.643]    y: 1\n",
      "   x: [0.976 0.435 0.66 ]    y: 2\n",
      "   x: [0.605 0.637 0.614]    y: 3\n"
     ]
    }
   ],
   "source": [
    "tf.random.set_seed(1)\n",
    "t_x = tf.random.uniform([4, 3], dtype=tf.float32)\n",
    "t_y = tf.range(4)\n",
    "\n",
    "ds_x = tf.data.Dataset.from_tensor_slices(t_x)\n",
    "ds_y = tf.data.Dataset.from_tensor_slices(t_y)\n",
    "\n",
    "ds_joint = tf.data.Dataset.zip((ds_x, ds_y))\n",
    "for example in ds_joint:\n",
    "    print('   x:', example[0].numpy(), '   y:', example[1].numpy())"
   ]
  },
  {
   "cell_type": "markdown",
   "metadata": {},
   "source": [
    "자주 발생하는 에러는 원본 특성(x)과 레이블(y) 사이의 원소 간 대응이 깨지는 경우이다.(두 데이터셋을 따로 섞으면 일어난다.) -> 하나의 데이터 셋으로 합쳐야 한다."
   ]
  },
  {
   "cell_type": "code",
   "execution_count": 22,
   "metadata": {},
   "outputs": [
    {
     "name": "stdout",
     "output_type": "stream",
     "text": [
      "   x: [-0.67   0.803  0.262]    y: 0\n",
      "   x: [-0.131 -0.416  0.285]    y: 1\n",
      "   x: [ 0.952 -0.13   0.32 ]    y: 2\n",
      "   x: [0.21  0.273 0.229]    y: 3\n"
     ]
    },
    {
     "name": "stderr",
     "output_type": "stream",
     "text": [
      "2024-08-12 02:16:38.971012: I tensorflow/core/framework/local_rendezvous.cc:404] Local rendezvous is aborting with status: OUT_OF_RANGE: End of sequence\n"
     ]
    }
   ],
   "source": [
    "ds_trans = ds_joint.map(lambda x, y: (x*2-1.0, y))\n",
    "for example in ds_trans:\n",
    "    print('   x:', example[0].numpy(), '   y:', example[1].numpy())"
   ]
  },
  {
   "cell_type": "markdown",
   "metadata": {},
   "source": [
    "## shuffle(), batch(), repeat() 메서드\n",
    "훈련 데이터를 무작위로 섞은 배치로 만들어 주입하는 것이 중요한다. 이 외에도 데이터셋을 섞거나 재순환하는 방법이 있다."
   ]
  },
  {
   "cell_type": "code",
   "execution_count": 23,
   "metadata": {},
   "outputs": [
    {
     "name": "stdout",
     "output_type": "stream",
     "text": [
      "   x: [0.976 0.435 0.66 ]    y: 2\n",
      "   x: [0.435 0.292 0.643]    y: 1\n",
      "   x: [0.165 0.901 0.631]    y: 0\n",
      "   x: [0.605 0.637 0.614]    y: 3\n"
     ]
    }
   ],
   "source": [
    "tf.random.set_seed(1)\n",
    "ds = ds_joint.shuffle(buffer_size=len(t_x))\n",
    "for example in ds:\n",
    "    print('   x:', example[0].numpy(), '   y:', example[1].numpy())"
   ]
  }
 ],
 "metadata": {
  "kernelspec": {
   "display_name": "base",
   "language": "python",
   "name": "python3"
  },
  "language_info": {
   "codemirror_mode": {
    "name": "ipython",
    "version": 3
   },
   "file_extension": ".py",
   "mimetype": "text/x-python",
   "name": "python",
   "nbconvert_exporter": "python",
   "pygments_lexer": "ipython3",
   "version": "3.12.4"
  }
 },
 "nbformat": 4,
 "nbformat_minor": 2
}
