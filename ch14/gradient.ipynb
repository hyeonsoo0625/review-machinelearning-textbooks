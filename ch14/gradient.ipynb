{
 "cells": [
  {
   "cell_type": "code",
   "execution_count": 3,
   "metadata": {},
   "outputs": [],
   "source": [
    "import tensorflow as tf"
   ]
  },
  {
   "cell_type": "code",
   "execution_count": 5,
   "metadata": {},
   "outputs": [
    {
     "name": "stdout",
     "output_type": "stream",
     "text": [
      "True True\n",
      "dL/dw: -0.559999764\n"
     ]
    }
   ],
   "source": [
    "w = tf.Variable(1.0)\n",
    "b = tf.Variable(0.5)\n",
    "print(w.trainable, b.trainable)\n",
    "x = tf.convert_to_tensor([1.4])\n",
    "y = tf.convert_to_tensor([2.1])\n",
    "with tf.GradientTape() as tape:\n",
    "    z = tf.add(tf.multiply(w, x), b)\n",
    "    loss = tf.reduce_sum(tf.square(y - z))\n",
    "dloss_dw = tape.gradient(loss, w)\n",
    "tf.print('dL/dw:', dloss_dw)"
   ]
  }
 ],
 "metadata": {
  "kernelspec": {
   "display_name": "base",
   "language": "python",
   "name": "python3"
  },
  "language_info": {
   "codemirror_mode": {
    "name": "ipython",
    "version": 3
   },
   "file_extension": ".py",
   "mimetype": "text/x-python",
   "name": "python",
   "nbconvert_exporter": "python",
   "pygments_lexer": "ipython3",
   "version": "3.12.4"
  }
 },
 "nbformat": 4,
 "nbformat_minor": 2
}
